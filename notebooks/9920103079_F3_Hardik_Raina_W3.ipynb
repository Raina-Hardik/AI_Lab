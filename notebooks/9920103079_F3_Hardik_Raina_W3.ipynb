{
 "cells": [
  {
   "cell_type": "code",
   "execution_count": 21,
   "metadata": {},
   "outputs": [
    {
     "ename": "TypeError",
     "evalue": "unsupported operand type(s) for +: 'type' and 'str'",
     "output_type": "error",
     "traceback": [
      "\u001b[0;31m---------------------------------------------------------------------------\u001b[0m",
      "\u001b[0;31mTypeError\u001b[0m                                 Traceback (most recent call last)",
      "Cell \u001b[0;32mIn[21], line 43\u001b[0m\n\u001b[1;32m     41\u001b[0m turn \u001b[39m+\u001b[39m\u001b[39m=\u001b[39m \u001b[39m1\u001b[39m\n\u001b[1;32m     42\u001b[0m player \u001b[39m=\u001b[39m token[turn\u001b[39m%\u001b[39m\u001b[39m2\u001b[39m]\n\u001b[0;32m---> 43\u001b[0m \u001b[39mprint\u001b[39;49m(newBoard)\n\u001b[1;32m     44\u001b[0m pos \u001b[39m=\u001b[39m \u001b[39mint\u001b[39m(\u001b[39minput\u001b[39m(\u001b[39mf\u001b[39m\u001b[39m'\u001b[39m\u001b[39mPlayer \u001b[39m\u001b[39m{\u001b[39;00mplayer\u001b[39m}\u001b[39;00m\u001b[39m Token Pos: \u001b[39m\u001b[39m'\u001b[39m))\n\u001b[1;32m     45\u001b[0m newBoard\u001b[39m.\u001b[39mmakeMove(player, pos)\n",
      "Cell \u001b[0;32mIn[21], line 9\u001b[0m, in \u001b[0;36mTTT.__repr__\u001b[0;34m(self)\u001b[0m\n\u001b[1;32m      7\u001b[0m \u001b[39mfor\u001b[39;00m row \u001b[39min\u001b[39;00m \u001b[39mself\u001b[39m\u001b[39m.\u001b[39mboard:\n\u001b[1;32m      8\u001b[0m     \u001b[39mfor\u001b[39;00m item \u001b[39min\u001b[39;00m row:\n\u001b[0;32m----> 9\u001b[0m         board \u001b[39m+\u001b[39m\u001b[39m=\u001b[39m item \u001b[39m+\u001b[39;49m \u001b[39m\"\u001b[39;49m\u001b[39m \u001b[39;49m\u001b[39m\"\u001b[39;49m\n\u001b[1;32m     10\u001b[0m     board \u001b[39m+\u001b[39m\u001b[39m=\u001b[39m \u001b[39m'\u001b[39m\u001b[39m \u001b[39m\u001b[39m'\u001b[39m\n\u001b[1;32m     11\u001b[0m \u001b[39mreturn\u001b[39;00m board\n",
      "\u001b[0;31mTypeError\u001b[0m: unsupported operand type(s) for +: 'type' and 'str'"
     ]
    }
   ],
   "source": [
    "class TTT:\n",
    "    def __init__(self) -> None:\n",
    "        self.board = [[str, str, str], [str, str, str], [str, str, str]]\n",
    "\n",
    "    def __repr__(self) -> str:\n",
    "        board = ''\n",
    "        for row in self.board:\n",
    "            for item in row:\n",
    "                board += item + \" \"\n",
    "            board += ' '\n",
    "        return board\n",
    "\n",
    "    def makeMove(self, player:str, pos:int) -> bool:\n",
    "        if self.board[pos//3][pos%3]: return False\n",
    "        self.board[pos//3][pos%3] = player\n",
    "        return True\n",
    "\n",
    "    def hasWon(self, player:str) -> bool:\n",
    "        board = self.board\n",
    "        for row in board:\n",
    "            if row.count(player) == 3: return True\n",
    "        \n",
    "        board = [list(i) for i in zip(*board)]\n",
    "\n",
    "        for row in board:\n",
    "            if row.count(player) == 3: return True\n",
    "\n",
    "        if board[0][0] == board[1][1] == board[2][2] == player: return True\n",
    "        if board[0][2] == board[1][1] == board[2][0] == player: return True\n",
    "\n",
    "        return False\n",
    "        \n",
    "    def gameOver(self) -> bool:\n",
    "        if self.hasWon('X') or self.hasWon('O'): return True\n",
    "        return any(None in row for row in self.board)\n",
    "\n",
    "newBoard = TTT()\n",
    "token = 'XO'\n",
    "turn = 0\n",
    "while not newBoard.gameOver():\n",
    "    turn += 1\n",
    "    player = token[turn%2]\n",
    "    print(newBoard)\n",
    "    pos = int(input(f'Player {player} Token Pos: '))\n",
    "    newBoard.makeMove(player, pos)\n",
    "    if newBoard.hasWon(player): print(f'{player} WON!!')\n",
    "\n",
    "print('TIE!!')\n"
   ]
  },
  {
   "cell_type": "code",
   "execution_count": 5,
   "metadata": {},
   "outputs": [
    {
     "data": {
      "text/plain": [
       "[[0, 3, 6], [1, 4, 7], [2, 5, 8]]"
      ]
     },
     "execution_count": 5,
     "metadata": {},
     "output_type": "execute_result"
    }
   ],
   "source": [
    "b = [[0, 1, 2], [3, 4, 5], [6, 7, 8]]\n",
    "\n",
    "[list(i) for i in zip(*b)]\n"
   ]
  }
 ],
 "metadata": {
  "kernelspec": {
   "display_name": "Python 3",
   "language": "python",
   "name": "python3"
  },
  "language_info": {
   "codemirror_mode": {
    "name": "ipython",
    "version": 3
   },
   "file_extension": ".py",
   "mimetype": "text/x-python",
   "name": "python",
   "nbconvert_exporter": "python",
   "pygments_lexer": "ipython3",
   "version": "3.10.4"
  },
  "orig_nbformat": 4,
  "vscode": {
   "interpreter": {
    "hash": "3ad933181bd8a04b432d3370b9dc3b0662ad032c4dfaa4e4f1596c548f763858"
   }
  }
 },
 "nbformat": 4,
 "nbformat_minor": 2
}
