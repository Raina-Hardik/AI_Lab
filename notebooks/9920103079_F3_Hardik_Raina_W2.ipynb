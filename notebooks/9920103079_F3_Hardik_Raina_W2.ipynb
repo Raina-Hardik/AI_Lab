{
 "cells": [
  {
   "cell_type": "code",
   "execution_count": null,
   "metadata": {},
   "outputs": [],
   "source": [
    "from collections import deque\n",
    "from queue import Queue\n",
    "import heapq\n",
    "import numpy as np"
   ]
  },
  {
   "cell_type": "code",
   "execution_count": null,
   "metadata": {},
   "outputs": [],
   "source": [
    "def tree_ref(tree, index):\n",
    "    for i in index:\n",
    "        if i>= len(tree): return None\n",
    "        tree = tree[i]\n",
    "    return tree\n",
    "\n",
    "tree = (((1, 2), 3), (4, (5, 6)), 7, (8, 9, 10))\n",
    "tree_ref(tree, (3, 1))"
   ]
  },
  {
   "cell_type": "code",
   "execution_count": null,
   "metadata": {},
   "outputs": [],
   "source": [
    "def BFS(tree, start):\n",
    "    path = set()\n",
    "    queue = deque([start])\n",
    "    path.add(start)\n",
    "    while queue:\n",
    "        node = queue.popleft()\n",
    "        for neighbor in tree[node]:\n",
    "            if neighbor not in path:\n",
    "                queue.append(neighbor)\n",
    "                path.add(neighbor)\n",
    "    return path"
   ]
  },
  {
   "cell_type": "code",
   "execution_count": null,
   "metadata": {},
   "outputs": [],
   "source": [
    "def dfs(tree, index):\n",
    "    if not isinstance(tree, tuple): return tree\n",
    "    return dfs(tree[index[0]], index[1:])"
   ]
  },
  {
   "cell_type": "code",
   "execution_count": null,
   "metadata": {},
   "outputs": [],
   "source": [
    "def uniform_cost_search(tree, start, goal):\n",
    "    queue = [(0, start)]\n",
    "    visited = set()\n",
    "    came_from = {start: None}\n",
    "    path_cost = {start: 0}\n",
    "    \n",
    "    while queue:\n",
    "        current_cost, current = heapq.heappop(queue)\n",
    "        if current == goal: break\n",
    "        if current not in visited:\n",
    "            visited.add(current)\n",
    "            for next_node, cost in tree[current].items():\n",
    "                new_cost = path_cost[current] + cost\n",
    "                if next_node not in path_cost or new_cost < path_cost[next_node]:\n",
    "                    priority = path_cost[next_node] = new_cost\n",
    "                    heapq.heappush(queue, (priority, next_node))\n",
    "                    came_from[next_node] = current\n",
    "    return came_from, path_cost"
   ]
  },
  {
   "cell_type": "code",
   "execution_count": null,
   "metadata": {},
   "outputs": [],
   "source": [
    "def iterative_deepening_search(graph, start, goal):\n",
    "    for depth in range(1, len(graph)):\n",
    "        result = depth_limited_search(graph, start, goal, depth)\n",
    "        if result: return result\n",
    "    return None\n",
    "\n",
    "def depth_limited_search(graph, node, goal, depth_limit):\n",
    "    if depth_limit == 0 and node == goal: return [node]\n",
    "    if depth_limit > 0:\n",
    "        for next_node in graph[node]:\n",
    "            result = depth_limited_search(graph, next_node, goal, depth_limit-1)\n",
    "            if result: return [node] + result\n",
    "    return None"
   ]
  },
  {
   "cell_type": "code",
   "execution_count": null,
   "metadata": {},
   "outputs": [],
   "source": [
    "GOAL_STATE = np.array([[1, 2, 3], [4, 5, 6], [7, 8, 0]])\n",
    "\n",
    "def is_valid_input(goal_state)->bool:\n",
    "    if goal_state.shape != (3, 3): return False\n",
    "    if np.unique(goal_state).shape[0] < 9: return False\n",
    "    if not np.isin(0, goal_state): return False\n",
    "    return True\n",
    "\n",
    "def bfs(start_state, goal_state)->None:\n",
    "    if not is_valid_input(goal_state): return\n",
    "    visited = set()\n",
    "    q = Queue()\n",
    "    q.put((start_state, 0))\n",
    "    visited.add(tuple(start_state.ravel()))\n",
    "    while not q.empty():\n",
    "        state, depth = q.get()\n",
    "        if (state == goal_state).all():\n",
    "            print(f\"Found goal state in {depth} moves.\")\n",
    "            return\n",
    "        BLANK = np.where(state == 0)\n",
    "        BLANKx, BLANKy = BLANK[0][0], BLANK[1][0]\n",
    "        for dx, dy in ((-1, 0), (1, 0), (0, -1), (0, 1)):\n",
    "            x, y = BLANKx + dx, BLANKy + dy\n",
    "            if x < 0 or x > 2 or y < 0 or y > 2: continue\n",
    "            new_state = np.copy(state)\n",
    "            new_state[BLANKx, BLANKy], new_state[x, y] = new_state[x, y], new_state[BLANKx, BLANKy]\n",
    "            if tuple(new_state.ravel()) not in visited:\n",
    "                q.put((new_state, depth+1))\n",
    "                visited.add(tuple(new_state.ravel()))\n",
    "    print(\"Error: Goal state not reachable.\")\n",
    "\n",
    "start_state = np.array([[1, 2, 3], [4, 0, 6], [7, 5, 8]])\n",
    "goal_state = np.array([[1, 2, 3], [4, 5, 6], [7, 8, 0]])\n",
    "bfs(start_state, goal_state)"
   ]
  },
  {
   "cell_type": "code",
   "execution_count": null,
   "metadata": {},
   "outputs": [],
   "source": [
    "def bfs(m, n, d, visited):\n",
    "    queue = deque([(0, 0)])\n",
    "    while queue:\n",
    "        current = queue.popleft()\n",
    "        if current[0] == d or current[1] == d: return current\n",
    "        if current in visited: continue\n",
    "        visited.append(current)\n",
    "        next_states = [(0, current[1]), (current[0], 0), (m, current[1]), (current[0], n), (current[0]-min(current[0], n-current[1]), current[1]+min(current[0], n-current[1])), (current[0]+min(current[1], m-current[0]), current[1]-min(current[1], m-current[0]))]\n",
    "        for state in next_states: \n",
    "            if state not in visited: queue.append(state)\n",
    "    return None\n",
    "m = 5\n",
    "n = 3\n",
    "d = 4\n",
    "print(bfs(m, n, d, []))"
   ]
  }
 ],
 "metadata": {
  "kernelspec": {
   "display_name": "Python 3",
   "language": "python",
   "name": "python3"
  },
  "language_info": {
   "codemirror_mode": {
    "name": "ipython",
    "version": 3
   },
   "file_extension": ".py",
   "mimetype": "text/x-python",
   "name": "python",
   "nbconvert_exporter": "python",
   "pygments_lexer": "ipython3",
   "version": "3.10.4 (main, Jan 18 2023, 00:26:41) [GCC 9.4.0]"
  },
  "orig_nbformat": 4,
  "vscode": {
   "interpreter": {
    "hash": "3ad933181bd8a04b432d3370b9dc3b0662ad032c4dfaa4e4f1596c548f763858"
   }
  }
 },
 "nbformat": 4,
 "nbformat_minor": 2
}
