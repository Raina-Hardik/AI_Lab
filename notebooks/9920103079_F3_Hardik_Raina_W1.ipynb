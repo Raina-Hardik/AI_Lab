{
 "cells": [
  {
   "cell_type": "code",
   "execution_count": 5,
   "metadata": {},
   "outputs": [
    {
     "data": {
      "text/plain": [
       "'HARDIK RAINA 9920103079 F3 WEEK 1'"
      ]
     },
     "execution_count": 5,
     "metadata": {},
     "output_type": "execute_result"
    }
   ],
   "source": [
    "'''HARDIK RAINA 9920103079 F3 WEEK 1'''"
   ]
  },
  {
   "cell_type": "code",
   "execution_count": 3,
   "metadata": {},
   "outputs": [
    {
     "data": {
      "text/plain": [
       "20"
      ]
     },
     "execution_count": 3,
     "metadata": {},
     "output_type": "execute_result"
    }
   ],
   "source": [
    "def max(num1:int, num2:int):\n",
    "    return num1 if num1 > num2 else num2\n",
    "\n",
    "max(10,20)"
   ]
  },
  {
   "cell_type": "code",
   "execution_count": 4,
   "metadata": {},
   "outputs": [
    {
     "data": {
      "text/plain": [
       "30"
      ]
     },
     "execution_count": 4,
     "metadata": {},
     "output_type": "execute_result"
    }
   ],
   "source": [
    "def max_of_three(num1:int, num2:int, num3:int):\n",
    "    return num1 if num1 >= num2 & num1 >= num3 else num2 if num2 >= num1 & num2 >= num3 else num3\n",
    "\n",
    "max_of_three(10, 30, 30)"
   ]
  },
  {
   "cell_type": "code",
   "execution_count": 7,
   "metadata": {},
   "outputs": [
    {
     "data": {
      "text/plain": [
       "29"
      ]
     },
     "execution_count": 7,
     "metadata": {},
     "output_type": "execute_result"
    }
   ],
   "source": [
    "def compute_length(data):\n",
    "    ans = 0\n",
    "    for i in data: ans += 1\n",
    "    return ans\n",
    "\n",
    "compute_length(\"9920103079_F3_Hardik_Raina_W1\")"
   ]
  },
  {
   "cell_type": "code",
   "execution_count": 18,
   "metadata": {},
   "outputs": [
    {
     "data": {
      "text/plain": [
       "'ToThohisos isos FoFunon'"
      ]
     },
     "execution_count": 18,
     "metadata": {},
     "output_type": "execute_result"
    }
   ],
   "source": [
    "vowels = 'aeiouAEIOU '\n",
    "\n",
    "def translate(string:str):\n",
    "    return ''.join(map(lambda x: x + \"o\" + x if x not in vowels else x, string))\n",
    "\n",
    "translate('This is Fun')"
   ]
  },
  {
   "cell_type": "code",
   "execution_count": 22,
   "metadata": {},
   "outputs": [
    {
     "name": "stdout",
     "output_type": "stream",
     "text": [
      "SUM: 10\n",
      "MUL: 24\n"
     ]
    }
   ],
   "source": [
    "def SUM(given_list:list):\n",
    "    ans = 0\n",
    "    for num in given_list:\n",
    "        ans += num\n",
    "    return ans\n",
    "\n",
    "def MUL(given_list:list):\n",
    "    ans = 1\n",
    "    for num in given_list:\n",
    "        ans *= num\n",
    "    return ans\n",
    "\n",
    "print(f'SUM: {SUM([1,2,3,4])}')\n",
    "print(f'MUL: {MUL([1,2,3,4])}')\n"
   ]
  },
  {
   "cell_type": "code",
   "execution_count": 31,
   "metadata": {},
   "outputs": [
    {
     "data": {
      "text/plain": [
       "'1W_aniaR_kidraH_3F_9703010299'"
      ]
     },
     "execution_count": 31,
     "metadata": {},
     "output_type": "execute_result"
    }
   ],
   "source": [
    "def reverse(string:str):\n",
    "    return string[::-1]\n",
    "reverse('9920103079_F3_Hardik_Raina_W1')"
   ]
  },
  {
   "cell_type": "code",
   "execution_count": 36,
   "metadata": {},
   "outputs": [
    {
     "data": {
      "text/plain": [
       "'Is a Palindrome'"
      ]
     },
     "execution_count": 36,
     "metadata": {},
     "output_type": "execute_result"
    }
   ],
   "source": [
    "def  is_palindrome(data):\n",
    "    return f'Is{\" \" if data == data[::-1] else \"NOT\"}a Palindrome'\n",
    "is_palindrome('RACECAR')"
   ]
  },
  {
   "cell_type": "code",
   "execution_count": 37,
   "metadata": {},
   "outputs": [
    {
     "name": "stdout",
     "output_type": "stream",
     "text": [
      "****\n",
      "***\n",
      "*********\n"
     ]
    }
   ],
   "source": [
    "def procedure(data:list):\n",
    "    for ele in data:\n",
    "        print('*' * ele)\n",
    "procedure([4,3,9])"
   ]
  },
  {
   "cell_type": "code",
   "execution_count": null,
   "metadata": {},
   "outputs": [],
   "source": []
  }
 ],
 "metadata": {
  "kernelspec": {
   "display_name": "Python 3",
   "language": "python",
   "name": "python3"
  },
  "language_info": {
   "codemirror_mode": {
    "name": "ipython",
    "version": 3
   },
   "file_extension": ".py",
   "mimetype": "text/x-python",
   "name": "python",
   "nbconvert_exporter": "python",
   "pygments_lexer": "ipython3",
   "version": "3.10.4"
  },
  "orig_nbformat": 4,
  "vscode": {
   "interpreter": {
    "hash": "3ad933181bd8a04b432d3370b9dc3b0662ad032c4dfaa4e4f1596c548f763858"
   }
  }
 },
 "nbformat": 4,
 "nbformat_minor": 2
}
